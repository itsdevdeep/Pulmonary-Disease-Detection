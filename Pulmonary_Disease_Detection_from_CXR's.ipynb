{
  "nbformat": 4,
  "nbformat_minor": 0,
  "metadata": {
    "colab": {
      "provenance": [],
      "authorship_tag": "ABX9TyPwEkib2JnAtpb82GQ46aUQ"
    },
    "kernelspec": {
      "name": "python3",
      "display_name": "Python 3"
    },
    "language_info": {
      "name": "python"
    },
    "accelerator": "GPU",
    "gpuClass": "standard"
  },
  "cells": [
    {
      "cell_type": "code",
      "execution_count": null,
      "metadata": {
        "id": "Bh5yIxZl6Hlr"
      },
      "outputs": [],
      "source": [
        "import warnings\n",
        "warnings.filterwarnings(\"ignore\")"
      ]
    },
    {
      "cell_type": "markdown",
      "source": [
        "# Gathering, analysing and visualizing the data"
      ],
      "metadata": {
        "id": "wNrbnlC_8VBb"
      }
    },
    {
      "cell_type": "markdown",
      "source": [
        "Navigating to the dataset and unzipping it for use"
      ],
      "metadata": {
        "id": "7vPF6ADM8XXn"
      }
    },
    {
      "cell_type": "code",
      "source": [
        "!wget https://www.dropbox.com/s/aogx9w405rkhh5p/CXR_Samples.zip?dl=0"
      ],
      "metadata": {
        "id": "4XuhExbrAM9a"
      },
      "execution_count": null,
      "outputs": []
    },
    {
      "cell_type": "code",
      "source": [
        "!unzip /content/CXR_Samples.zip?dl=0"
      ],
      "metadata": {
        "id": "_VEnVaKBMD_-"
      },
      "execution_count": null,
      "outputs": []
    },
    {
      "cell_type": "code",
      "source": [
        "import numpy as np\n",
        "import pandas as pd\n",
        "import matplotlib.pyplot as plt\n",
        "import random\n",
        "\n",
        "import os\n",
        "import shutil\n",
        "import glob"
      ],
      "metadata": {
        "id": "0Lk2OzrdMsbb"
      },
      "execution_count": null,
      "outputs": []
    },
    {
      "cell_type": "markdown",
      "source": [
        "Storing the path of the root directory, a directory named \"all_images\" where we will copy all the images \n",
        "\n",
        "Also creating an array storing the class names"
      ],
      "metadata": {
        "id": "PaOPXxqA8hBj"
      }
    },
    {
      "cell_type": "code",
      "source": [
        "ROOT_DIR=\"/content/CXR Samples\"\n",
        "images=[\"COVID\",\"Normal\",\"Pneumonia\",\"Tuberculosis\"]\n",
        "\n",
        "NEW_DIR=\"/content/all_images/\""
      ],
      "metadata": {
        "id": "p7nMqdLSlRX9"
      },
      "execution_count": null,
      "outputs": []
    },
    {
      "cell_type": "markdown",
      "source": [
        "Copying all the images to the new directory created"
      ],
      "metadata": {
        "id": "J79pS6Nw8oV-"
      }
    },
    {
      "cell_type": "code",
      "source": [
        "if not os.path.exists(NEW_DIR):\n",
        "  os.mkdir(NEW_DIR)\n",
        "\n",
        "for i in images:\n",
        "    org_dir = os.path.join(ROOT_DIR, i+\"/\")\n",
        "    \n",
        "    for imgfile in glob.iglob(os.path.join(org_dir, \"*.png\")):\n",
        "      shutil.copy(imgfile, NEW_DIR)\n",
        "      \n",
        "else:\n",
        "  print(\"Folder already exists\")"
      ],
      "metadata": {
        "id": "_k5GxT2vp8qy",
        "colab": {
          "base_uri": "https://localhost:8080/"
        },
        "outputId": "cc732d8b-a8b9-4c04-ec7d-7d9b00f8e87d"
      },
      "execution_count": null,
      "outputs": [
        {
          "output_type": "stream",
          "name": "stdout",
          "text": [
            "Folder already exists\n"
          ]
        }
      ]
    },
    {
      "cell_type": "markdown",
      "source": [
        "Obtain the Image count"
      ],
      "metadata": {
        "id": "Spse0qnj8wZU"
      }
    },
    {
      "cell_type": "code",
      "source": [
        "counter = {'COVID':0,'Normal':0,'Pneumonia' :0, 'Tuberculosis' :0}\n",
        "\n",
        "for image in images:\n",
        "  for count in glob.iglob(NEW_DIR+image+\"*\"):\n",
        "    counter[image] += 1\n",
        "\n",
        "counter"
      ],
      "metadata": {
        "colab": {
          "base_uri": "https://localhost:8080/"
        },
        "id": "G5xtn9M_Ybs_",
        "outputId": "94692540-2b63-4daa-ed49-eca5493f91ae"
      },
      "execution_count": null,
      "outputs": [
        {
          "output_type": "execute_result",
          "data": {
            "text/plain": [
              "{'COVID': 559, 'Normal': 1585, 'Pneumonia': 4273, 'Tuberculosis': 700}"
            ]
          },
          "metadata": {},
          "execution_count": 7
        }
      ]
    },
    {
      "cell_type": "markdown",
      "source": [
        "Visualizing the count in the form of a bar graph"
      ],
      "metadata": {
        "id": "KnGnnQ86801w"
      }
    },
    {
      "cell_type": "code",
      "source": [
        "c = ['red', 'blue', 'teal', 'green']\n",
        "\n",
        "plt.figure(figsize=(6,6))\n",
        "plt.bar(x = counter.keys(), height= counter.values(), color= c)\n",
        "\n",
        "plt.show()\n"
      ],
      "metadata": {
        "colab": {
          "base_uri": "https://localhost:8080/",
          "height": 374
        },
        "id": "DCUeHn-PaRCY",
        "outputId": "01d07bbd-5353-4f1a-a968-974e39d85b10"
      },
      "execution_count": null,
      "outputs": [
        {
          "output_type": "display_data",
          "data": {
            "text/plain": [
              "<Figure size 432x432 with 1 Axes>"
            ],
            "image/png": "[encoded data removed]"
          },
          "metadata": {
            "needs_background": "light"
          }
        }
      ]
    },
    {
      "cell_type": "markdown",
      "source": [
        "# Data Splitting"
      ],
      "metadata": {
        "id": "H5cCmvPD9A52"
      }
    },
    {
      "cell_type": "markdown",
      "source": [
        "First, we create a sub-directory within 'all_images' where we split the data into 3 sets: Training data, Testing data and Validation Data.\n",
        "\n",
        "Count of images for each class type is different. So we will choose only a fixed number of images from each class for training, validation and testing purpose.\n",
        "\n",
        "The division of images is as follows:\n",
        "\n",
        "**Training data** contains **350 Samples** from each class\n",
        "\n",
        "**Testing data** contains **50 Samples** from each class\n",
        "\n",
        "**Validation data** contains **100 Samples** from each class "
      ],
      "metadata": {
        "id": "8-fDILA09HtR"
      }
    },
    {
      "cell_type": "code",
      "source": [
        "if not os.path.exists(NEW_DIR+\"train_test_split/\"):\n",
        "  os.makedirs(NEW_DIR+\"train_test_split/\")\n",
        "\n",
        "  os.makedirs(NEW_DIR+\"train_test_split/train/Covid\")\n",
        "  os.makedirs(NEW_DIR+\"train_test_split/train/Normal\")\n",
        "  os.makedirs(NEW_DIR+\"train_test_split/train/Pneumonia\")\n",
        "  os.makedirs(NEW_DIR+\"train_test_split/train/Tuberculosis\")\n",
        "\n",
        "  os.makedirs(NEW_DIR+\"train_test_split/test/Covid\")\n",
        "  os.makedirs(NEW_DIR+\"train_test_split/test/Normal\")\n",
        "  os.makedirs(NEW_DIR+\"train_test_split/test/Pneumonia\")\n",
        "  os.makedirs(NEW_DIR+\"train_test_split/test/Tuberculosis\")\n",
        "\n",
        "  os.makedirs(NEW_DIR+\"train_test_split/validation/Covid\")\n",
        "  os.makedirs(NEW_DIR+\"train_test_split/validation/Normal\")\n",
        "  os.makedirs(NEW_DIR+\"train_test_split/validation/Pneumonia\")\n",
        "  os.makedirs(NEW_DIR+\"train_test_split/validation/Tuberculosis\")\n",
        "\n",
        "  # Training Data\n",
        "  for i in np.random.choice(replace= False , size= 350 , a = glob.glob(NEW_DIR+images[0]+\"*\") ):\n",
        "    shutil.copy(i , NEW_DIR+\"train_test_split/train/Covid\" )\n",
        "    os.remove(i)\n",
        "\n",
        "  for i in np.random.choice(replace= False , size= 350 , a = glob.glob(NEW_DIR+images[1]+\"*\") ):\n",
        "    shutil.copy(i , NEW_DIR+\"train_test_split/train/Normal\" )\n",
        "    os.remove(i)\n",
        "\n",
        "  for i in np.random.choice(replace= False , size= 350 , a = glob.glob(NEW_DIR+images[2]+\"*\") ):\n",
        "    shutil.copy(i , NEW_DIR+\"train_test_split/train/Pneumonia\" )\n",
        "    os.remove(i)\n",
        "\n",
        "  for i in np.random.choice(replace= False , size= 350 , a = glob.glob(NEW_DIR+images[3]+\"*\") ):\n",
        "    shutil.copy(i , NEW_DIR+\"train_test_split/train/Tuberculosis\" )\n",
        "    os.remove(i)\n",
        "\n",
        "\n",
        "\n",
        "\n",
        " # Validation Data\n",
        "  for i in np.random.choice(replace= False , size= 100 , a = glob.glob(NEW_DIR+images[0]+\"*\") ):\n",
        "    shutil.copy(i , NEW_DIR+\"train_test_split/validation/Covid\" )\n",
        "    os.remove(i)\n",
        "\n",
        "  for i in np.random.choice(replace= False , size= 100 , a = glob.glob(NEW_DIR+images[1]+\"*\") ):\n",
        "    shutil.copy(i , NEW_DIR+\"train_test_split/validation/Normal\" )\n",
        "    os.remove(i)\n",
        "\n",
        "  for i in np.random.choice(replace= False , size= 100 , a = glob.glob(NEW_DIR+images[2]+\"*\") ):\n",
        "    shutil.copy(i , NEW_DIR+\"train_test_split/validation/Pneumonia\" )\n",
        "    os.remove(i)\n",
        "\n",
        "  for i in np.random.choice(replace= False , size= 100 , a = glob.glob(NEW_DIR+images[3]+\"*\") ):\n",
        "    shutil.copy(i , NEW_DIR+\"train_test_split/validation/Tuberculosis\" )\n",
        "    os.remove(i)\n",
        "\n",
        "\n",
        "\n",
        " \n",
        " # Test Data\n",
        "  for i in np.random.choice(replace= False , size= 50 , a = glob.glob(NEW_DIR+images[0]+\"*\") ):\n",
        "    shutil.copy(i , NEW_DIR+\"train_test_split/test/Covid\" )\n",
        "    os.remove(i)\n",
        "\n",
        "  for i in np.random.choice(replace= False , size= 50 , a = glob.glob(NEW_DIR+images[1]+\"*\") ):\n",
        "    shutil.copy(i , NEW_DIR+\"train_test_split/test/Normal\" )\n",
        "    os.remove(i)\n",
        "\n",
        "  for i in np.random.choice(replace= False , size= 50 , a = glob.glob(NEW_DIR+images[2]+\"*\") ):\n",
        "    shutil.copy(i , NEW_DIR+\"train_test_split/test/Pneumonia\" )\n",
        "    os.remove(i)\n",
        "\n",
        "  for i in np.random.choice(replace= False , size= 50 , a = glob.glob(NEW_DIR+images[3]+\"*\") ):\n",
        "    shutil.copy(i , NEW_DIR+\"train_test_split/test/Tuberculosis\" )\n",
        "    os.remove(i)"
      ],
      "metadata": {
        "id": "gihH3XmHbO6x"
      },
      "execution_count": null,
      "outputs": []
    },
    {
      "cell_type": "markdown",
      "source": [
        "Storing the paths of the directories in which we splitted the data into 3 variables"
      ],
      "metadata": {
        "id": "yOUR53Ij-BfX"
      }
    },
    {
      "cell_type": "code",
      "source": [
        "train_path  = \"/content/all_images/train_test_split/train\"\n",
        "valid_path  = \"/content/all_images/train_test_split/validation\"\n",
        "test_path   = \"/content/all_images/train_test_split/test\""
      ],
      "metadata": {
        "id": "BSd_GEkJGhCZ"
      },
      "execution_count": null,
      "outputs": []
    },
    {
      "cell_type": "markdown",
      "source": [
        "# Data Augmentation"
      ],
      "metadata": {
        "id": "8aHQfCN4-Ey3"
      }
    },
    {
      "cell_type": "markdown",
      "source": [
        "Importing deep learning layers and models"
      ],
      "metadata": {
        "id": "RBJ6_Itj-F1n"
      }
    },
    {
      "cell_type": "code",
      "source": [
        "from keras.preprocessing.image import ImageDataGenerator\n",
        "from tensorflow.keras.applications.resnet50 import preprocess_input, ResNet50\n",
        "from keras.models import Model\n",
        "from keras.layers import Flatten , Dense, Dropout , MaxPool2D\n",
        "import keras"
      ],
      "metadata": {
        "id": "1Gen3blnGslA"
      },
      "execution_count": null,
      "outputs": []
    },
    {
      "cell_type": "markdown",
      "source": [
        "For training our model, we will be including some augmentation like zooming, horizontal flipping and shearing such that the model is trained on all forms of image data."
      ],
      "metadata": {
        "id": "ozulDuWs-OWy"
      }
    },
    {
      "cell_type": "code",
      "source": [
        "train_data_gen = ImageDataGenerator(preprocessing_function= preprocess_input, \n",
        "                                    zoom_range= 0.2, \n",
        "                                    horizontal_flip= True, \n",
        "                                    shear_range= 0.2\n",
        "                                    \n",
        "                                    ) \n",
        "\n",
        "train = train_data_gen.flow_from_directory(directory= train_path, \n",
        "                                           target_size=(224,224))"
      ],
      "metadata": {
        "colab": {
          "base_uri": "https://localhost:8080/"
        },
        "id": "MvJ71LCnGxyv",
        "outputId": "b7a99e2d-93be-4866-8bd7-a8e0f1d23dda"
      },
      "execution_count": null,
      "outputs": [
        {
          "output_type": "stream",
          "name": "stdout",
          "text": [
            "Found 1400 images belonging to 4 classes.\n"
          ]
        }
      ]
    },
    {
      "cell_type": "code",
      "source": [
        "validation_data_gen = ImageDataGenerator(preprocessing_function= preprocess_input  )\n",
        "\n",
        "valid = validation_data_gen.flow_from_directory(directory= valid_path, \n",
        "                                                target_size=(224,224))"
      ],
      "metadata": {
        "colab": {
          "base_uri": "https://localhost:8080/"
        },
        "id": "jdRmEixgG1HC",
        "outputId": "b4a59cc3-ac41-419a-faf2-81bf089c6d8b"
      },
      "execution_count": null,
      "outputs": [
        {
          "output_type": "stream",
          "name": "stdout",
          "text": [
            "Found 400 images belonging to 4 classes.\n"
          ]
        }
      ]
    },
    {
      "cell_type": "code",
      "source": [
        "test_data_gen = ImageDataGenerator(preprocessing_function= preprocess_input )\n",
        "\n",
        "test = train_data_gen.flow_from_directory(directory= test_path , \n",
        "                                          target_size=(224,224), \n",
        "                                          shuffle= False)"
      ],
      "metadata": {
        "colab": {
          "base_uri": "https://localhost:8080/"
        },
        "id": "oji5BpbJG3UU",
        "outputId": "1f8bc150-ed06-4530-d6c2-01159ab58fc8"
      },
      "execution_count": null,
      "outputs": [
        {
          "output_type": "stream",
          "name": "stdout",
          "text": [
            "Found 200 images belonging to 4 classes.\n"
          ]
        }
      ]
    },
    {
      "cell_type": "code",
      "source": [
        "class_type = {0:'Covid',  1:'Normal', 2:'Pneumonia', 3:'Tuberculosis'}"
      ],
      "metadata": {
        "id": "y_h40HeVH7H6"
      },
      "execution_count": null,
      "outputs": []
    },
    {
      "cell_type": "markdown",
      "source": [
        "# Our Model: ResNet50"
      ],
      "metadata": {
        "id": "26Jg-4X1-TU3"
      }
    },
    {
      "cell_type": "code",
      "source": [
        "res = ResNet50( input_shape=(224,224,3), include_top= False)"
      ],
      "metadata": {
        "colab": {
          "base_uri": "https://localhost:8080/"
        },
        "id": "-UtELrt-IQAp",
        "outputId": "eb5d7604-7be1-4f4c-98d6-3c32c0a673a1"
      },
      "execution_count": null,
      "outputs": [
        {
          "output_type": "stream",
          "name": "stdout",
          "text": [
            "Downloading data from https://storage.googleapis.com/tensorflow/keras-applications/resnet/resnet50_weights_tf_dim_ordering_tf_kernels_notop.h5\n",
            "94765736/94765736 [==============================] - 3s 0us/step\n"
          ]
        }
      ]
    },
    {
      "cell_type": "markdown",
      "source": [
        "Schematic Diagram of ResNet50 model"
      ],
      "metadata": {
        "id": "epQ2O-rc-kt9"
      }
    },
    {
      "cell_type": "markdown",
      "source": [
        "![1-s2.0-S0020025522001001-gr1.jpg](data:image/jpeg;base64,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)"
      ],
      "metadata": {
        "id": "pXuo1ROl-YcM"
      }
    },
    {
      "cell_type": "code",
      "source": [
        "for layer in res.layers:           \n",
        "  layer.trainable = False"
      ],
      "metadata": {
        "id": "WAmhKEipIWg7"
      },
      "execution_count": null,
      "outputs": []
    },
    {
      "cell_type": "markdown",
      "source": [
        "After all the layers have been applied, the result is a multi-dimensional matrix. We must transform this into a matrix that is in the shape of the required output.\n",
        "\n",
        "Flatten Layer flattens the input images.\n",
        "\n",
        "Dense layer classifies the images based on output from convolutional layers."
      ],
      "metadata": {
        "id": "MUfbygHh-yBb"
      }
    },
    {
      "cell_type": "code",
      "source": [
        "x = Flatten()(res.output)\n",
        "x = Dense(units=4 , activation='softmax', name = 'predictions' )(x)\n",
        "\n",
        "\n",
        "model = Model(res.input, x)"
      ],
      "metadata": {
        "id": "Xg8E-CS1IZky"
      },
      "execution_count": null,
      "outputs": []
    },
    {
      "cell_type": "code",
      "source": [
        "model.summary()"
      ],
      "metadata": {
        "id": "GrJHQDmVI-WU"
      },
      "execution_count": null,
      "outputs": []
    },
    {
      "cell_type": "code",
      "source": [
        "model = Model(inputs = res.input, outputs = x)"
      ],
      "metadata": {
        "id": "UH3yxj9iJBuf"
      },
      "execution_count": null,
      "outputs": []
    },
    {
      "cell_type": "code",
      "source": [
        "model.compile( optimizer= 'adam' , loss = 'categorical_crossentropy', metrics=['accuracy'])"
      ],
      "metadata": {
        "id": "c8W-_b55JFo8"
      },
      "execution_count": null,
      "outputs": []
    },
    {
      "cell_type": "markdown",
      "source": [
        "# Training the Model"
      ],
      "metadata": {
        "id": "UpZrxy0H-7Fx"
      }
    },
    {
      "cell_type": "markdown",
      "source": [
        "EarlyStopping class stops the model from training when a monitored metric has stopped improving. Here, we monitor validation accuracy.\n",
        "\n",
        "min_delta: Minimum change in the monitored quantity to qualify as an improvement\n",
        "\n",
        "patience: Number of epochs with no improvement after which training will be stopped.\n",
        "\n",
        "ModelCheckpoint class is used to save the model for later use.\n",
        "\n",
        "save_best_only= True : saves when the model is considered the \"best\""
      ],
      "metadata": {
        "id": "rM3bwG15-5Tk"
      }
    },
    {
      "cell_type": "code",
      "source": [
        "from keras.callbacks import EarlyStopping\n",
        "from keras.callbacks import ModelCheckpoint\n",
        "\n",
        "es = EarlyStopping(monitor= \"val_accuracy\" , min_delta= 0.01, patience= 3, verbose=1)\n",
        "mc = ModelCheckpoint(filepath=\"bestmodel.h5\", monitor=\"val_accuracy\", verbose=1, save_best_only= True)"
      ],
      "metadata": {
        "id": "SGNSSI11JYfv"
      },
      "execution_count": null,
      "outputs": []
    },
    {
      "cell_type": "markdown",
      "source": [
        "Training the model with suitable parameters. Here, we train the model for 30 epochs. However, the model will stop training as soon as no change is observed in the 'validation accuracy' for 3 continuous epochs. \n",
        "\n",
        "By this, we will avoid Model Overfitting"
      ],
      "metadata": {
        "id": "seF8smzy_Ck9"
      }
    },
    {
      "cell_type": "code",
      "source": [
        "hist = model.fit_generator(train, steps_per_epoch= 10, epochs= 30, validation_data= valid , callbacks=[es,mc])"
      ],
      "metadata": {
        "id": "o97Yxan-JeYF",
        "colab": {
          "base_uri": "https://localhost:8080/"
        },
        "outputId": "4958e4d3-4142-44a3-eab7-42989b7f71ff"
      },
      "execution_count": null,
      "outputs": [
        {
          "output_type": "stream",
          "name": "stdout",
          "text": [
            "Epoch 1/30\n",
            "10/10 [==============================] - ETA: 0s - loss: 10.8768 - accuracy: 0.5994\n",
            "Epoch 1: val_accuracy improved from -inf to 0.84000, saving model to bestmodel.h5\n",
            "10/10 [==============================] - 25s 1s/step - loss: 10.8768 - accuracy: 0.5994 - val_loss: 3.9219 - val_accuracy: 0.8400\n",
            "Epoch 2/30\n",
            "10/10 [==============================] - ETA: 0s - loss: 4.0913 - accuracy: 0.8365\n",
            "Epoch 2: val_accuracy improved from 0.84000 to 0.87750, saving model to bestmodel.h5\n",
            "10/10 [==============================] - 6s 645ms/step - loss: 4.0913 - accuracy: 0.8365 - val_loss: 2.9464 - val_accuracy: 0.8775\n",
            "Epoch 3/30\n",
            "10/10 [==============================] - ETA: 0s - loss: 1.9624 - accuracy: 0.9062\n",
            "Epoch 3: val_accuracy improved from 0.87750 to 0.92500, saving model to bestmodel.h5\n",
            "10/10 [==============================] - 7s 677ms/step - loss: 1.9624 - accuracy: 0.9062 - val_loss: 1.8040 - val_accuracy: 0.9250\n",
            "Epoch 4/30\n",
            "10/10 [==============================] - ETA: 0s - loss: 1.7751 - accuracy: 0.9231\n",
            "Epoch 4: val_accuracy improved from 0.92500 to 0.94750, saving model to bestmodel.h5\n",
            "10/10 [==============================] - 7s 766ms/step - loss: 1.7751 - accuracy: 0.9231 - val_loss: 1.1149 - val_accuracy: 0.9475\n",
            "Epoch 5/30\n",
            "10/10 [==============================] - ETA: 0s - loss: 1.2574 - accuracy: 0.9531\n",
            "Epoch 5: val_accuracy improved from 0.94750 to 0.96000, saving model to bestmodel.h5\n",
            "10/10 [==============================] - 6s 649ms/step - loss: 1.2574 - accuracy: 0.9531 - val_loss: 0.8863 - val_accuracy: 0.9600\n",
            "Epoch 6/30\n",
            "10/10 [==============================] - ETA: 0s - loss: 1.7561 - accuracy: 0.9344\n",
            "Epoch 6: val_accuracy did not improve from 0.96000\n",
            "10/10 [==============================] - 7s 697ms/step - loss: 1.7561 - accuracy: 0.9344 - val_loss: 1.1204 - val_accuracy: 0.9425\n",
            "Epoch 7/30\n",
            "10/10 [==============================] - ETA: 0s - loss: 1.4884 - accuracy: 0.9281\n",
            "Epoch 7: val_accuracy did not improve from 0.96000\n",
            "10/10 [==============================] - 6s 591ms/step - loss: 1.4884 - accuracy: 0.9281 - val_loss: 1.2947 - val_accuracy: 0.9400\n",
            "Epoch 8/30\n",
            "10/10 [==============================] - ETA: 0s - loss: 0.8593 - accuracy: 0.9469\n",
            "Epoch 8: val_accuracy improved from 0.96000 to 0.96250, saving model to bestmodel.h5\n",
            "10/10 [==============================] - 6s 655ms/step - loss: 0.8593 - accuracy: 0.9469 - val_loss: 0.7345 - val_accuracy: 0.9625\n",
            "Epoch 8: early stopping\n"
          ]
        }
      ]
    },
    {
      "cell_type": "code",
      "source": [
        "from keras.models import load_model\n",
        "model = load_model(\"bestmodel.h5\")"
      ],
      "metadata": {
        "id": "RdY9nSqIJlT5"
      },
      "execution_count": null,
      "outputs": []
    },
    {
      "cell_type": "code",
      "source": [
        "h = hist.history\n",
        "h.keys()"
      ],
      "metadata": {
        "colab": {
          "base_uri": "https://localhost:8080/"
        },
        "id": "D7jez8i9LDYU",
        "outputId": "26a5a7fb-8534-4208-b39b-13a27c39beec"
      },
      "execution_count": null,
      "outputs": [
        {
          "output_type": "execute_result",
          "data": {
            "text/plain": [
              "dict_keys(['loss', 'accuracy', 'val_loss', 'val_accuracy'])"
            ]
          },
          "metadata": {},
          "execution_count": 25
        }
      ]
    },
    {
      "cell_type": "markdown",
      "source": [
        "# Visualizations"
      ],
      "metadata": {
        "id": "_R4K_E0a_w3N"
      }
    },
    {
      "cell_type": "code",
      "source": [
        "plt.plot(h['accuracy'],'r-', label='Accuracy')\n",
        "plt.plot(h['val_accuracy'] ,'b-',label='Validation Accuracy')\n",
        "plt.title(\"Accuracy v/s Validation Accuracy\")\n",
        "plt.legend()\n",
        "plt.show()"
      ],
      "metadata": {
        "colab": {
          "base_uri": "https://localhost:8080/",
          "height": 281
        },
        "id": "2ZoMYx0ELJ8K",
        "outputId": "181beb51-7c2e-4323-97e7-48bc9912e531"
      },
      "execution_count": null,
      "outputs": [
        {
          "output_type": "display_data",
          "data": {
            "text/plain": [
              "<Figure size 432x288 with 1 Axes>"
            ],
            "image/png": "[encoded data removed]"
          },
          "metadata": {
            "needs_background": "light"
          }
        }
      ]
    },
    {
      "cell_type": "code",
      "source": [
        "plt.plot(h['loss'],'r-', label='Loss')\n",
        "plt.plot(h['val_loss'] ,'b-',label='Validation Loss')\n",
        "plt.title(\"Loss v/s Validation Loss\")\n",
        "plt.legend()\n",
        "plt.show()"
      ],
      "metadata": {
        "colab": {
          "base_uri": "https://localhost:8080/",
          "height": 281
        },
        "id": "YXxb0VMgLVkl",
        "outputId": "cda1266a-f47e-48bb-9efd-e883d0da4201"
      },
      "execution_count": null,
      "outputs": [
        {
          "output_type": "display_data",
          "data": {
            "text/plain": [
              "<Figure size 432x288 with 1 Axes>"
            ],
            "image/png": "[encoded data removed]"
          },
          "metadata": {
            "needs_background": "light"
          }
        }
      ]
    },
    {
      "cell_type": "markdown",
      "source": [
        "# Performance Testing"
      ],
      "metadata": {
        "id": "JKeBp2KI_25B"
      }
    },
    {
      "cell_type": "markdown",
      "source": [
        "Results are based on accuracy that was achieverd on the Testing Data"
      ],
      "metadata": {
        "id": "T4gDWhaJ_8Pk"
      }
    },
    {
      "cell_type": "code",
      "source": [
        "acc = model.evaluate_generator(generator= test)[1] \n",
        "\n",
        "print(f\"Model Accuracy = {acc*100} %\")"
      ],
      "metadata": {
        "colab": {
          "base_uri": "https://localhost:8080/"
        },
        "id": "BHah2nBnLb15",
        "outputId": "30b5a2d0-b93c-4256-f6dc-a26403548a34"
      },
      "execution_count": null,
      "outputs": [
        {
          "output_type": "stream",
          "name": "stdout",
          "text": [
            "Model Accuracy = 95.49999833106995 %\n"
          ]
        }
      ]
    },
    {
      "cell_type": "markdown",
      "source": [
        "# Predictions on a random sample chosen from the Dataset"
      ],
      "metadata": {
        "id": "bgpPeWrUAFtN"
      }
    },
    {
      "cell_type": "code",
      "source": [
        "from keras.preprocessing import image\n",
        "from tensorflow.keras.utils import load_img, img_to_array\n",
        "import matplotlib.cm as cm\n",
        "\n",
        "from IPython.display import Image, display\n",
        "\n",
        "def get_img_array(img_path):\n",
        "  \"\"\"\n",
        "  Input : Takes in image path as input \n",
        "  Output : Gives out Pre-Processed image\n",
        "  \"\"\"\n",
        "  path = img_path\n",
        "  img = load_img(path, target_size=(224,224,3))\n",
        "  img = img_to_array(img)\n",
        "  img = np.expand_dims(img , axis= 0 )\n",
        "  \n",
        "  return img"
      ],
      "metadata": {
        "id": "J4Qehoi8L58I"
      },
      "execution_count": null,
      "outputs": []
    },
    {
      "cell_type": "code",
      "source": [
        "\n",
        "path = \"/content/all_images/train_test_split/test/Pneumonia/Pneumonia (1762).png\"       \n",
        "\n",
        "\n",
        "img = get_img_array(path)\n",
        "\n",
        "res = class_type[np.argmax(model.predict(img))]\n",
        "print(f\"The CXR image is of type: {res}\")\n",
        "print()\n",
        "#print(f\"The chances of CXR Iamge being a COVID Sample is : {model.predict(img)[0][0]*100} %\")\n",
        "#print()\n",
        "#print(f\"The chances of CXR Image being Normal is : {model.predict(img)[0][1]*100} %\")\n",
        "#print()\n",
        " \n",
        "plt.imshow(img[0]/255, cmap = \"gray\")\n",
        "plt.title(\"Input CXR Image\")\n",
        "plt.axis('off')\n",
        "plt.show()"
      ],
      "metadata": {
        "colab": {
          "base_uri": "https://localhost:8080/",
          "height": 316
        },
        "id": "iC-72TZFLf0z",
        "outputId": "863d2865-e137-4361-f6e5-0ce4bf645f67"
      },
      "execution_count": null,
      "outputs": [
        {
          "output_type": "stream",
          "name": "stdout",
          "text": [
            "1/1 [==============================] - 0s 82ms/step\n",
            "The CXR image is of type: Pneumonia\n",
            "\n"
          ]
        },
        {
          "output_type": "display_data",
          "data": {
            "text/plain": [
              "<Figure size 432x288 with 1 Axes>"
            ],
            "image/png": "[encoded data removed]"
          },
          "metadata": {
            "needs_background": "light"
          }
        }
      ]
    }
  ]
}